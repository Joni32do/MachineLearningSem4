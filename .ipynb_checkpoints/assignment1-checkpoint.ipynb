{
 "cells": [
  {
   "cell_type": "markdown",
   "metadata": {},
   "source": [
    "# Assignment 1: k-nearest neighbors (100 points)\n",
    "\n",
    "Only use the already imported libraries `numpy` and `matplotlib.pyplot` for the assignment. Do not import any other library. "
   ]
  },
  {
   "cell_type": "markdown",
   "metadata": {},
   "source": [
    "\n",
    "* *Louisa Pawusch, Maureen Kosiol, Maureen Jonathan Schnitzler* \n",
    "* *3408829, 3398926, 3465192* \n",
    "* *Simulation Technology*\n",
    "* *B.Sc.*\n"
   ]
  },
  {
   "cell_type": "code",
   "execution_count": 511,
   "metadata": {},
   "outputs": [],
   "source": [
    "# Load required packages and dataset. Do not modify.\n",
    "import matplotlib.pyplot as plt\n",
    "import numpy as np\n",
    "\n",
    "\n",
    "def load_wine_dataset():\n",
    "    from sklearn import datasets\n",
    "    wine = datasets.load_wine()\n",
    "    X = wine.data\n",
    "    y = wine.target\n",
    "    return X, y\n",
    "    \n",
    "X, y = load_wine_dataset()\n"
   ]
  },
  {
   "cell_type": "markdown",
   "metadata": {},
   "source": [
    "## Task 1: Visualization and Preprocessing (25 points)\n",
    "\n",
    "1) *(5 Points)* Explain the content of the dataset in few words. What are the input features? What is the classification target? Check out: [http://archive.ics.uci.edu/ml/datasets/Wine).\n"
   ]
  },
  {
   "cell_type": "markdown",
   "metadata": {},
   "source": [
    "The results of a chemical analysis of\n",
    "      wines grown in the same region in Italy but derived from three\n",
    "      different cultivars\n",
    "      \n",
    "The defining features are: \n",
    "      \n",
    "1) Alcohol\n",
    "2) Malic acid\n",
    " \t3) Ash\n",
    "\t4) Alcalinity of ash  \n",
    " \t5) Magnesium\n",
    "\t6) Total phenols\n",
    " \t7) Flavanoids\n",
    " \t8) Nonflavanoid phenols\n",
    " \t9) Proanthocyanins\n",
    "\t10)Color intensity\n",
    " \t11)Hue\n",
    " \t12)OD280/OD315 of diluted wines\n",
    " \t13)Proline  \n",
    "    \n",
    "The classification target is from which cultivar the wine is coming from\n",
    "\n",
    "     "
   ]
  },
  {
   "cell_type": "markdown",
   "metadata": {},
   "source": [
    "2) *(5 Points)* Compute and print the following statistics about the dataset:\n",
    "  - Number of samples\n",
    "  - Number of samples per class\n",
    "  - Mean and standard deviation for each input feature\n"
   ]
  },
  {
   "cell_type": "code",
   "execution_count": 512,
   "metadata": {},
   "outputs": [
    {
     "name": "stdout",
     "output_type": "stream",
     "text": [
      "Number of samples 178\n",
      "Number of samples per class\n",
      "   Wines from cultivars  0  : 59\n",
      "   Wines from cultivars  1  : 71\n",
      "   Wines from cultivars  2  : 48\n",
      "Alcohol :\n",
      "    Mean Deviation:      13.000617977528083\n",
      "    Standard Deviation:  0.809542914528517\n",
      "Malic acid :\n",
      "    Mean Deviation:      2.336348314606741\n",
      "    Standard Deviation:  1.1140036269797895\n",
      "Ash :\n",
      "    Mean Deviation:      2.3665168539325854\n",
      "    Standard Deviation:  0.2735722944264325\n",
      "Alcalinity of ash :\n",
      "    Mean Deviation:      19.49494382022472\n",
      "    Standard Deviation:  3.330169757658213\n",
      "Magnesium :\n",
      "    Mean Deviation:      99.74157303370787\n",
      "    Standard Deviation:  14.242307673359807\n",
      "Total phenols :\n",
      "    Mean Deviation:      2.295112359550562\n",
      "    Standard Deviation:  0.6240905641965366\n",
      "Flavanoids :\n",
      "    Mean Deviation:      2.0292696629213474\n",
      "    Standard Deviation:  0.9960489503792328\n",
      "Nonflavanoid phenols :\n",
      "    Mean Deviation:      0.36185393258426973\n",
      "    Standard Deviation:  0.12410325988364797\n",
      "Proanthocyanins :\n",
      "    Mean Deviation:      1.5908988764044953\n",
      "    Standard Deviation:  0.5707488486199377\n",
      "Color intensity :\n",
      "    Mean Deviation:      5.058089882022473\n",
      "    Standard Deviation:  2.3117646609525573\n",
      "Hue :\n",
      "    Mean Deviation:      0.9574494382022468\n",
      "    Standard Deviation:  0.2279286065650725\n",
      "OD280/OD315 of diluted wines :\n",
      "    Mean Deviation:      2.6116853932584254\n",
      "    Standard Deviation:  0.7079932646716006\n",
      "Proline :\n",
      "    Mean Deviation:      746.8932584269663\n",
      "    Standard Deviation:  314.0216568419877\n"
     ]
    }
   ],
   "source": [
    "n = len(X)\n",
    "print(\"Number of samples\", n)\n",
    "print(\"Number of samples per class\")\n",
    "count = np.zeros(3, dtype = int)\n",
    "for i in y:\n",
    "    count[i] += 1\n",
    "for i in range(3):\n",
    "    print(\"   Wines from cultivars \",i,\" :\", count[i])\n",
    "\n",
    "feature = [\"Alcohol\",\"Malic acid\", \"Ash\",\"Alcalinity of ash\", \"Magnesium\",\"Total phenols\",\n",
    "           \"Flavanoids\",\"Nonflavanoid phenols\",\"Proanthocyanins\",\"Color intensity\",\"Hue\",\n",
    "           \"OD280/OD315 of diluted wines\",\"Proline\"]\n",
    "for i in range(13):\n",
    "    meanDev = 0\n",
    "    standDev = 0\n",
    "    for j in range(n):\n",
    "        meanDev += X[j][i]\n",
    "    meanDev = meanDev/n\n",
    "    for j in range(n):\n",
    "        standDev += (X[j][i] - meanDev)**2 \n",
    "    standDev = np.sqrt(standDev/n)\n",
    "    print(feature[i],\":\")\n",
    "    print(\"    Mean Deviation:     \", meanDev)\n",
    "    print(\"    Standard Deviation: \", standDev)\n",
    "\n",
    "\n"
   ]
  },
  {
   "cell_type": "markdown",
   "metadata": {},
   "source": [
    "3) *(5 Points)* Visualize the variables *alcohol* and *magnesium* in a scatter plot (*alcohol* on the x-axis, *magnesium* on the y-axis). Color each point of the plot according to its class."
   ]
  },
  {
   "cell_type": "code",
   "execution_count": 513,
   "metadata": {},
   "outputs": [
    {
     "data": {
      "text/plain": [
       "<matplotlib.collections.PathCollection at 0x141573ead00>"
      ]
     },
     "execution_count": 513,
     "metadata": {},
     "output_type": "execute_result"
    },
    {
     "data": {
      "image/png": "[encoded data removed]",
      "text/plain": [
       "<Figure size 432x288 with 1 Axes>"
      ]
     },
     "metadata": {
      "needs_background": "light"
     },
     "output_type": "display_data"
    }
   ],
   "source": [
    "plt.scatter(np.transpose(X)[0], np.transpose(X)[4])"
   ]
  },
  {
   "cell_type": "markdown",
   "metadata": {},
   "source": [
    "4) *(5 Points)* Split the dataset randomly into training and test data. 70% of data should be used for training and 30% should be used for testing. Implement the function `train_test_split`. Do not modify the interface of the function."
   ]
  },
  {
   "cell_type": "code",
   "execution_count": 514,
   "metadata": {
    "scrolled": true
   },
   "outputs": [],
   "source": [
    "def train_test_split(X, y):\n",
    "    n1 = len(X)\n",
    "    k = int(0.7*n1)\n",
    "    ran = np.arange(n1)\n",
    "    np.random.shuffle(ran)\n",
    "    \n",
    "    X_train = np.zeros((k,13))\n",
    "    y_train = np.zeros((k,1), dtype = int)\n",
    "    X_test = np.zeros((n1-k,13))\n",
    "    y_test = np.zeros((n1-k,1), dtype = int)\n",
    "    \n",
    "    for i in range(n1):\n",
    "        if i < k:\n",
    "            X_train[i] = X[ran[i]]\n",
    "            y_train[i] = y[ran[i]]\n",
    "        else:\n",
    "            X_test[i-k] = X[ran[i]]\n",
    "            y_test[i-k] = y[ran[i]]\n",
    "    \n",
    "    \n",
    "    \n",
    "    \"\"\"\n",
    "    Returns X_train, X_test, y_train, y_test, \n",
    "        where X_train and X_test are the input features of the training and test set,\n",
    "        and y_train and y_test are the class labels of the training and test set.\n",
    "    \"\"\"\n",
    "    return X_train, X_test, y_train, y_test\n",
    "\n",
    "X_train, X_test, y_train, y_test = train_test_split(X, y)\n",
    "\n",
    "assert (X_train.shape[0] + X_test.shape[0]) == X.shape[0]\n",
    "assert (y_train.shape[0] + y_test.shape[0]) == y.shape[0]\n",
    "assert X_train.shape[1] == X_test.shape[1]"
   ]
  },
  {
   "cell_type": "markdown",
   "metadata": {},
   "source": [
    "5) *(5 Points)* kNN uses a distance measure to identify close neighbors. If the input features are not of the same scale, the distance is not as meaningful, which can negatively impact classification performance. Perform min-max scaling (i.e. scale the values of the input features in such a way that their range is from 0 to 1) on the training and test data. Remember that you should only use information from the training data to perform the scaling on both data sets."
   ]
  },
  {
   "cell_type": "code",
   "execution_count": 515,
   "metadata": {},
   "outputs": [],
   "source": [
    "for i in range(np.shape(X_train)[1]): #all 13 features\n",
    "    ma = max(X_train[:,i])\n",
    "    mi = min(X_train[:,i])\n",
    "    X_train[:,i] = (X_train[:,i]-mi)/(ma-mi)\n",
    "    X_test[:,i] = (X_test[:,i]-mi)/(ma-mi)\n"
   ]
  },
  {
   "cell_type": "markdown",
   "metadata": {},
   "source": [
    "## Task 2: k-nearest neighbors (50 Points)\n",
    "*Choose classes randomly if weights are equal for multiple classes*\n",
    "\n",
    "**For B.Sc. Data Science:**  \n",
    "\n",
    "Implement the kNN algorithm with uniform weighting and arbitrary `k`. Fill out the `predict` method of class `KNearestNeighbors`. \n",
    "\n",
    "Use Euclidean distance to determine the nearest neighbors.\n",
    "You can ignore the optional parameter `weights`, which is provided as a field in the kNN class.\n",
    "\n",
    "**For all students other than B.Sc. Data Science:**\n",
    "\n",
    "Implement the kNN algorithm with uniform and distance-based weighting and arbitrary `k`.\n",
    "Fill out the `predict` method of class `KNearestNeighbors`.\n",
    "\n",
    "The parameter `weights` will either contain the string `uniform` or `distance`. \n",
    "- If the value is `uniform`, the classifier should use the Euclidean distance for determining nearest neighbors and uniform weighting. \n",
    "- If the value is a `distance`, the classifier should use the Euclidean distance for determining neares neighbors and perform distance-weighted classification."
   ]
  },
  {
   "cell_type": "code",
   "execution_count": 516,
   "metadata": {},
   "outputs": [],
   "source": [
    "class KNearestNeighbors(object):\n",
    "    def __init__(self, k, weights='uniform'):\n",
    "        self.k = k\n",
    "        self.weights = weights\n",
    "        \n",
    "    def fit(self, X, y):\n",
    "        \"\"\"\n",
    "        This functions saves the training data to be used during the prediction.\n",
    "        \"\"\"\n",
    "        self.X = X\n",
    "        self.y = y\n",
    "    \n",
    "    def predict(self, X):\n",
    "        \"\"\"\n",
    "        Returns a vector of shape (n,) if X has shape (n,d), \n",
    "        where n is the number of samples and d is the number of features.\n",
    "        \"\"\"\n",
    "        distances = np.zeros((len(self.X),))\n",
    "        predictions = np.zeros((len(X),), dtype = int)\n",
    "        for i in range(len(X)):\n",
    "                for j in range(len(self.X)):\n",
    "                    distances[j] = euclidean_distance(self.X[j], X[i])\n",
    "                idx = np.argpartition(distances, self.k)\n",
    "                idx = idx[0:(self.k)]\n",
    "                count = np.zeros((3,))\n",
    "                \n",
    "                if self.weights == \"uniform\":\n",
    "                    for k in idx:\n",
    "                        count[self.y[k]] += 1 #This is working because if y[k] is between 0 and 2 for the values of the cultivars\n",
    "                    \n",
    "                    \n",
    "                elif self.weights == \"distance\":\n",
    "                    #Weights are evaluated by using the simple inverse function, this could be more elaborated\n",
    "                    if distances[idx[0]] == 0: predictions[i] = y[idx[0]] #No division by zero error\n",
    "                    else:\n",
    "                        for k in idx:\n",
    "                            count[self.y[k]] += 1/distances[k]  \n",
    "                predictions[i] = np.argmax(count) \n",
    "                #In case of multiple occurrences of the maximum values, \n",
    "                #the indices corresponding to the first occurrence are returned\n",
    "        return predictions\n",
    "\n",
    "    \n",
    "def euclidean_distance(x1, x2):\n",
    "    \"\"\"\n",
    "    Given vectors x1 and x2 with shape (n,) returns distance between vectors as float.\n",
    "    \"\"\"\n",
    "    return np.sqrt(np.sum((x1 - x2)*(x1 - x2)))"
   ]
  },
  {
   "cell_type": "markdown",
   "metadata": {},
   "source": [
    "## Task 3: Evaluation (25 Points)\n",
    "\n",
    "1) *(10 Points)* Implement functions to compute precision, recall and F1-score. `y_pred` and `y_true` are the vectors of predicted and true class labels respectively with shape `(n,)`, where `n` is the number of samples. Each function should return a float containing the corresponding score. It is advisable to implement a function for the confusion matrix and reuse it."
   ]
  },
  {
   "cell_type": "code",
   "execution_count": 517,
   "metadata": {},
   "outputs": [],
   "source": [
    "def confusionMatrix(y_pred, y_true):\n",
    "    conMat = np.zeros((3,3))\n",
    "    for i in range(len(y_pred)):\n",
    "        conMat[y_pred[i],y_true[i]]+=1\n",
    "    return conMat\n",
    "\n",
    "#Amount of rightly labeled data points divided by the number of total data points we labeled with index i\n",
    "def precision(y_pred, y_true):  \n",
    "    conMat = confusionMatrix(y_pred,y_true)\n",
    "    prec = np.zeros((3)) #We thought for precision it doesnt make sense to return a scalar\n",
    "    for i in range(3):\n",
    "        prec[i] = conMat[i,i]/sum(conMat[:,i])\n",
    "    return prec\n",
    "\n",
    "#Amount of rightly labeled data points divided by the number of total data points that truly have this label\n",
    "def recall(y_pred, y_true):\n",
    "    conMat = confusionMatrix(y_pred,y_true)\n",
    "    rec = np.zeros((3)) #We thought for recall it doesnt make sense to return a scalar\n",
    "    for i in range(3):\n",
    "        rec[i] = conMat[i,i]/sum(conMat[i,:])\n",
    "    return rec\n",
    "\n",
    "def f1score(y_pred, y_true): #This should be a matrix\n",
    "    r = recall(y_pred, y_true)\n",
    "    p = precision(y_pred, y_true)\n",
    "    f1 = np.zeros((3,3))\n",
    "    for i in range(3):\n",
    "        for k in range(3):\n",
    "            f1[i,k] = 2*r[i]*p[k]/(r[i]+p[k])\n",
    "    return f1\n"
   ]
  },
  {
   "cell_type": "markdown",
   "metadata": {},
   "source": [
    "2) *(10 Points)* Evaluate the performance of kNN with uniform weighting on the Wine dataset for `k=1,5,9`. Train each of the `3` classifiers on the training data from Task 1. Perform the predictions on both the training and test data. Then compute precision, recall, and F1-score for each model and for both training and test data. Visualize the performance in a plot, what do you observe?\n",
    "\n",
    "**For all students other than B.Sc. Data Science:** \n",
    "\n",
    "Also evaluate the kNN classifier with Euclidean distance-weighting. Compare the performance to uniform-weighting. How does the performance change compared to uniform weighting for each `k`?"
   ]
  },
  {
   "cell_type": "code",
   "execution_count": 518,
   "metadata": {},
   "outputs": [
    {
     "name": "stdout",
     "output_type": "stream",
     "text": [
      "This is the prediction for the wine with  1 .-Nearest Neighbor\n",
      "We use distance to evaluate it\n",
      "   This is the precision for wine  0  :  1.0\n",
      "   This is the recall for wine     0  :  0.8125\n",
      "   This is the f1 score for wine   0  :  [0.89655172 0.80194805 0.89655172]\n",
      "   This is the precision for wine  1  :  0.7916666666666666\n",
      "   This is the recall for wine     1  :  1.0\n",
      "   This is the f1 score for wine   1  :  [1.         0.88372093 1.        ]\n",
      "   This is the precision for wine  2  :  1.0\n",
      "   This is the recall for wine     2  :  0.8947368421052632\n",
      "   This is the f1 score for wine   2  :  [0.94444444 0.84005202 0.94444444]\n",
      "_________________________________________________\n",
      "The average precision is  0.9305555555555555\n",
      "The average recall is     0.9024122807017544\n",
      "The average f1score is    0.9119681483277825\n",
      "_________________________________________________\n",
      "\n",
      "--------------------------------------------------------------\n",
      "This is the prediction for the wine with  5 .-Nearest Neighbor\n",
      "We use distance to evaluate it\n",
      "   This is the precision for wine  0  :  1.0\n",
      "   This is the recall for wine     0  :  0.9285714285714286\n",
      "   This is the f1 score for wine   0  :  [0.96296296 0.87837838 0.96296296]\n",
      "   This is the precision for wine  1  :  0.8333333333333334\n",
      "   This is the recall for wine     1  :  1.0\n",
      "   This is the f1 score for wine   1  :  [1.         0.90909091 1.        ]\n",
      "   This is the precision for wine  2  :  1.0\n",
      "   This is the recall for wine     2  :  0.85\n",
      "   This is the f1 score for wine   2  :  [0.91891892 0.84158416 0.91891892]\n",
      "_________________________________________________\n",
      "The average precision is  0.9444444444444445\n",
      "The average recall is     0.9261904761904761\n",
      "The average f1score is    0.9325352455165437\n",
      "_________________________________________________\n",
      "\n",
      "--------------------------------------------------------------\n",
      "This is the prediction for the wine with  9 .-Nearest Neighbor\n",
      "We use distance to evaluate it\n",
      "   This is the precision for wine  0  :  1.0\n",
      "   This is the recall for wine     0  :  0.8666666666666667\n",
      "   This is the f1 score for wine   0  :  [0.92857143 0.82747069 0.92857143]\n",
      "   This is the precision for wine  1  :  0.7916666666666666\n",
      "   This is the recall for wine     1  :  1.0\n",
      "   This is the f1 score for wine   1  :  [1.         0.88372093 1.        ]\n",
      "   This is the precision for wine  2  :  1.0\n",
      "   This is the recall for wine     2  :  0.85\n",
      "   This is the f1 score for wine   2  :  [0.91891892 0.81979695 0.91891892]\n",
      "_________________________________________________\n",
      "The average precision is  0.9305555555555555\n",
      "The average recall is     0.9055555555555556\n",
      "The average f1score is    0.9139965851439046\n",
      "_________________________________________________\n",
      "\n",
      "--------------------------------------------------------------\n"
     ]
    }
   ],
   "source": [
    "k = [1,5,9]\n",
    "\n",
    "\n",
    "def test(x,y):\n",
    "    p = precision(x,y)\n",
    "    r = recall(x,y)\n",
    "    f = f1score(x,y)\n",
    "    pTotal = sum(p)/3\n",
    "    rTotal = sum(r)/3\n",
    "    fTotal = sum(sum(f))/9\n",
    "    for j in range(3):\n",
    "        print(\"   This is the precision for wine \", j, \" : \", p[j])\n",
    "        print(\"   This is the recall for wine    \", j, \" : \", r[j])\n",
    "        print(\"   This is the f1 score for wine  \", j, \" : \", f[j])\n",
    "    print(\"_________________________________________________\")\n",
    "    print(\"The average precision is \", pTotal)\n",
    "    print(\"The average recall is    \", rTotal)\n",
    "    print(\"The average f1score is   \", fTotal)\n",
    "    print(\"_________________________________________________\")\n",
    "    print()\n",
    "    \n",
    "    \n",
    "for i in k:\n",
    "    print(\"This is the prediction for the wine with \", i, \".-Nearest Neighbor\")\n",
    "    print(\"We use distance to evaluate it\")\n",
    "    KNN = KNearestNeighbors(i, \"distance\")\n",
    "    KNN.fit(X_train, y_train)\n",
    "    y_pred = KNN.predict(X_test)\n",
    "    test(y_pred, y_test)\n",
    "    \n",
    "    print(\"--------------------------------------------------------------\")\n"
   ]
  },
  {
   "cell_type": "markdown",
   "metadata": {},
   "source": [
    "With k=1, the predictions always are very clear as it only suggests one label. After running the program several times, one notices that it varies heavily if the average precision and average recall are best in case of k=1, k=5 or k=9.  Still, after checking the results for k=90 (uniform), one sees that the results get very bad.  Overall, when considering the distances as well, the results get better"
   ]
  },
  {
   "cell_type": "markdown",
   "metadata": {},
   "source": [
    "3) *(5 Points)* Explain why kNN with `k=1` achieves perfect results on the training data. Why is it not the best model?"
   ]
  },
  {
   "cell_type": "markdown",
   "metadata": {},
   "source": [
    "kNN with k=1 achieves perfect results, because the model is fitted perfectly on the training data. With k=1, each point is assigned exactly the label of the one closest point in the training set, which obviously is itself. Therefore, the loss is very small. Still, this is a classical case of the so called Overfitting, where the training data is represented perfectly, but it's performing badly on unknown test data. The model is built to represent exactly the training data, but it does not generalize very well."
   ]
  }
 ],
 "metadata": {
  "kernelspec": {
   "display_name": "Python 3",
   "language": "python",
   "name": "python3"
  },
  "language_info": {
   "codemirror_mode": {
    "name": "ipython",
    "version": 3
   },
   "file_extension": ".py",
   "mimetype": "text/x-python",
   "name": "python",
   "nbconvert_exporter": "python",
   "pygments_lexer": "ipython3",
   "version": "3.8.5"
  }
 },
 "nbformat": 4,
 "nbformat_minor": 1
}
